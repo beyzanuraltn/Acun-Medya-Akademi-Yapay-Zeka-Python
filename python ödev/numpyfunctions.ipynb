{
 "cells": [
  {
   "cell_type": "code",
   "execution_count": 3,
   "id": "652914b7-7667-4078-8cb6-5885f53486db",
   "metadata": {},
   "outputs": [],
   "source": [
    "import numpy as np"
   ]
  },
  {
   "cell_type": "code",
   "execution_count": 4,
   "id": "d9df3e39-0abc-47d9-889e-3a8aa6a508b0",
   "metadata": {},
   "outputs": [
    {
     "name": "stdout",
     "output_type": "stream",
     "text": [
      "1. np.array()= [1 2 3 4 5]\n"
     ]
    }
   ],
   "source": [
    "##dizi olıuşturma\n",
    "arr = np.array([1,2,3,4,5])\n",
    "print(\"1. np.array()=\", arr)"
   ]
  },
  {
   "cell_type": "code",
   "execution_count": 5,
   "id": "cd6d57d4-cf9e-4b7c-b141-aefa328f7a49",
   "metadata": {},
   "outputs": [
    {
     "name": "stdout",
     "output_type": "stream",
     "text": [
      "2. np.arange(): [0 2 4 6 8]\n"
     ]
    }
   ],
   "source": [
    "##Belirli bir aralıkta düzenli artan sayılarla dizi oluşturma\n",
    "arr_range = np.arange(0, 10, 2)\n",
    "print(\"2. np.arange():\", arr_range)"
   ]
  },
  {
   "cell_type": "code",
   "execution_count": 6,
   "id": "8b00fd2a-0fdd-43df-a421-8aaa93392635",
   "metadata": {},
   "outputs": [
    {
     "name": "stdout",
     "output_type": "stream",
     "text": [
      "3. np.linspace(): [ 0.   2.5  5.   7.5 10. ]\n"
     ]
    }
   ],
   "source": [
    "# Belirtilen aralıkta eşit aralıklı sayılar oluşturma\n",
    "arr_linspace = np.linspace(0, 10, 5)\n",
    "print(\"3. np.linspace():\", arr_linspace)"
   ]
  },
  {
   "cell_type": "code",
   "execution_count": 7,
   "id": "b0a8236c-f357-4710-a8e5-764a35c93545",
   "metadata": {},
   "outputs": [
    {
     "name": "stdout",
     "output_type": "stream",
     "text": [
      "4. np.zeros():\n",
      " [[0. 0. 0.]\n",
      " [0. 0. 0.]]\n"
     ]
    }
   ],
   "source": [
    "# Sıfırlarla dolu bir dizi oluşturma\n",
    "arr_zeros = np.zeros((2, 3))\n",
    "print(\"4. np.zeros():\\n\", arr_zeros)"
   ]
  },
  {
   "cell_type": "code",
   "execution_count": 9,
   "id": "cee8a4cb-6c36-499d-b6a2-df4fa2cd94fe",
   "metadata": {},
   "outputs": [
    {
     "name": "stdout",
     "output_type": "stream",
     "text": [
      "5. np.ones():\n",
      " [[1. 1. 1. 1. 1. 1. 1. 1.]\n",
      " [1. 1. 1. 1. 1. 1. 1. 1.]\n",
      " [1. 1. 1. 1. 1. 1. 1. 1.]\n",
      " [1. 1. 1. 1. 1. 1. 1. 1.]\n",
      " [1. 1. 1. 1. 1. 1. 1. 1.]]\n"
     ]
    }
   ],
   "source": [
    "# Birlerle dolu bir dizi oluşturma\n",
    "arr_ones = np.ones((5, 8))\n",
    "print(\"5. np.ones():\\n\", arr_ones)"
   ]
  },
  {
   "cell_type": "code",
   "execution_count": 10,
   "id": "f4d9b804-fbb4-4ea9-8667-2a726cde6fc0",
   "metadata": {},
   "outputs": [
    {
     "name": "stdout",
     "output_type": "stream",
     "text": [
      "6. np.eye():\n",
      " [[1. 0. 0. 0.]\n",
      " [0. 1. 0. 0.]\n",
      " [0. 0. 1. 0.]\n",
      " [0. 0. 0. 1.]]\n"
     ]
    }
   ],
   "source": [
    "# Birim matris oluşturma\n",
    "identity_matrix = np.eye(4)\n",
    "print(\"6. np.eye():\\n\", identity_matrix)"
   ]
  },
  {
   "cell_type": "code",
   "execution_count": 11,
   "id": "7732dce0-6e62-41b2-8b39-957cd193a524",
   "metadata": {},
   "outputs": [
    {
     "name": "stdout",
     "output_type": "stream",
     "text": [
      "7. np.random.rand():\n",
      " [[0.33650946 0.89252194 0.97342272]\n",
      " [0.09563535 0.96725233 0.80459354]\n",
      " [0.32719256 0.18199232 0.68395197]]\n"
     ]
    }
   ],
   "source": [
    "# 0 ile 1 arasında rastgele sayılar içeren bir dizi oluşturma\n",
    "random_array = np.random.rand(3, 3)\n",
    "print(\"7. np.random.rand():\\n\", random_array)"
   ]
  },
  {
   "cell_type": "code",
   "execution_count": 12,
   "id": "bc7f45ba-c74e-4677-8184-9f9c2626cfb8",
   "metadata": {},
   "outputs": [
    {
     "name": "stdout",
     "output_type": "stream",
     "text": [
      "8. np.mean(): 3.0\n"
     ]
    }
   ],
   "source": [
    "# Dizinin ortalamasını hesaplama\n",
    "arr_mean = np.mean(arr)\n",
    "print(\"8. np.mean():\", arr_mean)"
   ]
  },
  {
   "cell_type": "code",
   "execution_count": 13,
   "id": "2b14efc8-b07a-4141-94a1-432892a10ab3",
   "metadata": {},
   "outputs": [
    {
     "name": "stdout",
     "output_type": "stream",
     "text": [
      "9. np.sum(): 15\n"
     ]
    }
   ],
   "source": [
    "# Dizinin elemanlarını toplama\n",
    "arr_sum = np.sum(arr)\n",
    "print(\"9. np.sum():\", arr_sum)\n"
   ]
  },
  {
   "cell_type": "code",
   "execution_count": 14,
   "id": "11e3be91-5680-4582-8b79-02e8f4ceee6b",
   "metadata": {},
   "outputs": [
    {
     "name": "stdout",
     "output_type": "stream",
     "text": [
      "10. np.reshape():\n",
      " [[1 2 3]\n",
      " [4 5 6]\n",
      " [7 8 9]]\n"
     ]
    }
   ],
   "source": [
    "# Dizinin şeklini değiştirme\n",
    "reshaped_arr = np.arange(1, 10).reshape(3, 3)\n",
    "print(\"10. np.reshape():\\n\", reshaped_arr)\n"
   ]
  },
  {
   "cell_type": "code",
   "execution_count": null,
   "id": "1db8f07b-34af-4686-8dca-5c4f7a94c52a",
   "metadata": {},
   "outputs": [],
   "source": []
  }
 ],
 "metadata": {
  "kernelspec": {
   "display_name": "Python 3 (ipykernel)",
   "language": "python",
   "name": "python3"
  },
  "language_info": {
   "codemirror_mode": {
    "name": "ipython",
    "version": 3
   },
   "file_extension": ".py",
   "mimetype": "text/x-python",
   "name": "python",
   "nbconvert_exporter": "python",
   "pygments_lexer": "ipython3",
   "version": "3.9.21"
  }
 },
 "nbformat": 4,
 "nbformat_minor": 5
}
